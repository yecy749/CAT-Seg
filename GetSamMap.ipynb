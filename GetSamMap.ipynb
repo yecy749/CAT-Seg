{
 "cells": [
  {
   "cell_type": "code",
   "execution_count": 3,
   "metadata": {},
   "outputs": [],
   "source": [
    "DS_PATH = '/home/zpp2/ycy/datasets/LandDiscover50K/TR_Image/SOTA_P9997_0020.png'\n",
    "from segment_anything import build_sam, SamAutomaticMaskGenerator\n",
    "device = \"cuda\"\n",
    "mask_generator = SamAutomaticMaskGenerator(build_sam(checkpoint=\"/media/zpp2/Datamy/ycy/clip-diy/sam_vit_h_4b8939.pth\").to(device=device))"
   ]
  },
  {
   "cell_type": "code",
   "execution_count": null,
   "metadata": {},
   "outputs": [],
   "source": [
    "masks=mask_generator(DS_PATH)"
   ]
  }
 ],
 "metadata": {
  "kernelspec": {
   "display_name": "catseg",
   "language": "python",
   "name": "python3"
  },
  "language_info": {
   "codemirror_mode": {
    "name": "ipython",
    "version": 3
   },
   "file_extension": ".py",
   "mimetype": "text/x-python",
   "name": "python",
   "nbconvert_exporter": "python",
   "pygments_lexer": "ipython3",
   "version": "3.8.19"
  }
 },
 "nbformat": 4,
 "nbformat_minor": 2
}
