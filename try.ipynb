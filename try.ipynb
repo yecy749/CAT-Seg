{
 "cells": [
  {
   "cell_type": "code",
   "execution_count": 3,
   "metadata": {},
   "outputs": [
    {
     "name": "stdout",
     "output_type": "stream",
     "text": [
      "torch.Size([1, 64, 64, 64])\n"
     ]
    }
   ],
   "source": [
    "import torch\n",
    "import torch.nn as nn\n",
    "\n",
    "class StripedDWConv(nn.Module):\n",
    "    def __init__(self, in_channels, out_channels, kernel_size):\n",
    "        super(StripedDWConv, self).__init__()\n",
    "        self.conv_kx1 = nn.Conv2d(in_channels, out_channels, kernel_size=(kernel_size, 1),\n",
    "                                  stride=1, padding=(kernel_size // 2, 0),groups=in_channels)\n",
    "        self.conv_1xk = nn.Conv2d(in_channels, out_channels, kernel_size=(1, kernel_size),\n",
    "                                  stride=1, padding=(0, kernel_size // 2),groups=in_channels)\n",
    "\n",
    "    def forward(self, x):\n",
    "        out = self.conv_1xk(x)\n",
    "        out = self.conv_kx1(out)\n",
    "        # out = out_kx1 + out_1xk\n",
    "        return out\n",
    "\n",
    "# Example usage\n",
    "input_tensor = torch.randn(1, 64, 64, 64)  # batch_size=1, in_channels=32, height=64, width=64\n",
    "striped_conv_layer = StripedDWConv(in_channels=64, out_channels=64, kernel_size=7)\n",
    "output_tensor = striped_conv_layer(input_tensor)\n",
    "\n",
    "print(output_tensor.shape)  # Should be [1, 64, 64, 64]\n"
   ]
  },
  {
   "cell_type": "code",
   "execution_count": null,
   "metadata": {},
   "outputs": [],
   "source": []
  }
 ],
 "metadata": {
  "kernelspec": {
   "display_name": "catseg",
   "language": "python",
   "name": "python3"
  },
  "language_info": {
   "codemirror_mode": {
    "name": "ipython",
    "version": 3
   },
   "file_extension": ".py",
   "mimetype": "text/x-python",
   "name": "python",
   "nbconvert_exporter": "python",
   "pygments_lexer": "ipython3",
   "version": "3.8.19"
  }
 },
 "nbformat": 4,
 "nbformat_minor": 2
}
